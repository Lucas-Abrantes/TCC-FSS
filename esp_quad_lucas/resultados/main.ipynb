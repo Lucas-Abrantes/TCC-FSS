{
 "cells": [
  {
   "cell_type": "code",
   "execution_count": 8,
   "metadata": {},
   "outputs": [
    {
     "data": {
      "text/html": [
       "<div>\n",
       "<style scoped>\n",
       "    .dataframe tbody tr th:only-of-type {\n",
       "        vertical-align: middle;\n",
       "    }\n",
       "\n",
       "    .dataframe tbody tr th {\n",
       "        vertical-align: top;\n",
       "    }\n",
       "\n",
       "    .dataframe thead th {\n",
       "        text-align: right;\n",
       "    }\n",
       "</style>\n",
       "<table border=\"1\" class=\"dataframe\">\n",
       "  <thead>\n",
       "    <tr style=\"text-align: right;\">\n",
       "      <th></th>\n",
       "      <th>resonant_frequency(dB)</th>\n",
       "      <th>BW(GHZ)</th>\n",
       "    </tr>\n",
       "  </thead>\n",
       "  <tbody>\n",
       "    <tr>\n",
       "      <th>0</th>\n",
       "      <td>-41.223229</td>\n",
       "      <td>8.0</td>\n",
       "    </tr>\n",
       "  </tbody>\n",
       "</table>\n",
       "</div>"
      ],
      "text/plain": [
       "   resonant_frequency(dB)  BW(GHZ)\n",
       "0              -41.223229      8.0"
      ]
     },
     "execution_count": 8,
     "metadata": {},
     "output_type": "execute_result"
    }
   ],
   "source": [
    "import pandas as pd\n",
    "\n",
    "db = pd.read_csv('h_1_6_p_15_d_13_w_4_5.csv')\n",
    "db"
   ]
  },
  {
   "cell_type": "code",
   "execution_count": 12,
   "metadata": {},
   "outputs": [],
   "source": [
    "import pandas as pd\n",
    "import os\n",
    "\n",
    "# resultados estão salvos\n",
    "diretorio_resultados = 'C:\\\\Users\\\\lucas\\\\Downloads\\\\TCC-FSS\\\\esp_quad_lucas\\\\resultados'\n",
    "\n",
    "# Percorrendo cada arquivo no diretório de resultados\n",
    "for arquivo in os.listdir(diretorio_resultados):\n",
    "    if arquivo.endswith('.csv'):  # Verifica se o arquivo é um arquivo CSV\n",
    "        caminho_completo = os.path.join(diretorio_resultados, arquivo)\n",
    "        \n",
    "        df = pd.read_csv(caminho_completo)\n",
    "        \n",
    "        # Verificando se há algum valor nulo no DataFrame\n",
    "        if df.isnull().any().any(): \n",
    "            print(f'O arquivo {arquivo} ESTÁ VAZIO .')\n",
    "        else:\n",
    "            continue"
   ]
  }
 ],
 "metadata": {
  "kernelspec": {
   "display_name": "Python 3",
   "language": "python",
   "name": "python3"
  },
  "language_info": {
   "codemirror_mode": {
    "name": "ipython",
    "version": 3
   },
   "file_extension": ".py",
   "mimetype": "text/x-python",
   "name": "python",
   "nbconvert_exporter": "python",
   "pygments_lexer": "ipython3",
   "version": "3.11.4"
  }
 },
 "nbformat": 4,
 "nbformat_minor": 2
}
