{
 "cells": [
  {
   "cell_type": "code",
   "execution_count": 21,
   "metadata": {},
   "outputs": [],
   "source": [
    "import pandas as pd\n",
    "import os\n",
    "\n",
    "diretorio_resultados = 'C:\\\\Users\\\\lucas\\\\Downloads\\\\TCC-FSS\\\\esp_quad_lucas\\\\resultados'\n",
    "\n",
    "for arquivo in os.listdir(diretorio_resultados):\n",
    "    if arquivo.endswith('.csv'): \n",
    "        caminho_completo = os.path.join(diretorio_resultados, arquivo)\n",
    "        \n",
    "        df = pd.read_csv(caminho_completo)\n",
    "        \n",
    "        # Verificando se há algum valor nulo no DataFrame\n",
    "        if df.isnull().any().any(): \n",
    "            print(f'O arquivo {arquivo} ESTÁ VAZIO .')\n",
    "        else:\n",
    "            continue"
   ]
  },
  {
   "cell_type": "code",
   "execution_count": 22,
   "metadata": {},
   "outputs": [
    {
     "name": "stdout",
     "output_type": "stream",
     "text": [
      "Nenhum arquivo com a coluna BW(GHZ) igual a zero encontrado.\n"
     ]
    }
   ],
   "source": [
    "import pandas as pd\n",
    "import os\n",
    "\n",
    "diretorio_resultados = 'C:\\\\Users\\\\lucas\\\\Downloads\\\\TCC-FSS\\\\esp_quad_lucas\\\\resultados'\n",
    "\n",
    "arquivos_com_bw_zero = []\n",
    "\n",
    "for arquivo in os.listdir(diretorio_resultados):\n",
    "    if arquivo.endswith('.csv'):  \n",
    "        caminho_completo = os.path.join(diretorio_resultados, arquivo)\n",
    "        \n",
    "        df = pd.read_csv(caminho_completo)\n",
    "        \n",
    "        if 'BW(GHZ)' in df.columns:\n",
    "            if (df['BW(GHZ)'] == 0).all():\n",
    "                arquivos_com_bw_zero.append(arquivo)\n",
    "\n",
    "if arquivos_com_bw_zero:\n",
    "    print(\"Arquivos com a coluna BW(GHZ) igual a zero:\")\n",
    "    for arquivo in arquivos_com_bw_zero:\n",
    "        print(arquivo)\n",
    "else:\n",
    "    print(\"Nenhum arquivo com a coluna BW(GHZ) igual a zero encontrado.\")\n"
   ]
  }
 ],
 "metadata": {
  "kernelspec": {
   "display_name": "Python 3",
   "language": "python",
   "name": "python3"
  },
  "language_info": {
   "codemirror_mode": {
    "name": "ipython",
    "version": 3
   },
   "file_extension": ".py",
   "mimetype": "text/x-python",
   "name": "python",
   "nbconvert_exporter": "python",
   "pygments_lexer": "ipython3",
   "version": "3.11.4"
  }
 },
 "nbformat": 4,
 "nbformat_minor": 2
}
