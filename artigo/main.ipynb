{
 "cells": [
  {
   "cell_type": "code",
   "execution_count": 1,
   "metadata": {},
   "outputs": [],
   "source": [
    "import pandas as pd\n",
    "\n",
    "# Dados\n",
    "data = {\n",
    "    'Data': ['22/04/2024', '17/04/2024', '17/04/2024',  '17/04/2024', '17/04/2024',\n",
    "             '17/04/2024', '17/04/2024', '17/04/2024','17/04/2024','17/04/2024', '13/04/2024','13/04/2024',\n",
    "             '13/04/2024', '13/04/2024', '13/04/2024', '12/04/2024','11/04/2024', '11/04/2024', '11/04/2024',\n",
    "             '11/04/2024', '11/04/2024', '11/04/2024',  '11/04/2024', '11/04/2024', '11/04/2024', '11/04/2024',\n",
    "             '11/04/2024', '11/04/2024', '11/04/2024', '11/04/2024','11/04/2024', '11/04/2024', '11/04/2024',\n",
    "             '11/04/2024','11/04/2024','11/04/2024','11/04/2024','11/04/2024','11/04/2024','11/04/2024','11/04/2024','11/04/2024',\n",
    "             '11/04/2024', '11/04/2024', '11/04/2024', '11/04/2024', '11/04/2024', '11/04/2024', '11/04/2024','11/04/2024', '11/04/2024',\n",
    "             '11/04/2024','11/04/2024','11/04/2024','11/04/2024','11/04/2024','11/04/2024','11/04/2024','11/04/2024','11/04/2024', '11/04/2024',\n",
    "              '11/04/2024', '11/04/2024', '11/04/2024','11/04/2024','11/04/2024', '11/04/2024','11/04/2024','11/04/2024','11/04/2024','11/04/2024','11/04/2024',\n",
    "               '11/04/2024','11/04/2024', '11/04/2024', '11/04/2024',  '11/04/2024','11/04/2024','11/04/2024','11/04/2024','11/04/2024','11/04/2024','11/04/2024',\n",
    "               '11/04/2024','11/04/2024','11/04/2024', '11/04/2024', '11/04/2024', '11/04/2024', '11/04/2024','11/04/2024', '11/04/2024',\n",
    "               '11/04/2024','11/04/2024','11/04/2024','11/04/2024', '11/04/2024','11/04/2024','11/04/2024','11/04/2024', '11/04/2024','11/04/2024', '11/04/2024',\n",
    "                '11/04/2024','11/04/2024', '11/04/2024','11/04/2024', '11/04/2024',],\n",
    "\n",
    "\n",
    "\n",
    "    'Hora': ['15:24', '07:44', '07:44', '07:43', '07:44', '07:43',\n",
    "             '07:43', '07:42', '07:41','07:41', '15:39', '15:39', '15:38','15:38', '15:37', '15:59',\n",
    "             '16:54', '16:53', '16:53', '16:52', '16:59', '16:58', '16:58', '16:57', '17:03', '17:03', '17:00',\n",
    "             '16:59', '17:06', '17:05', '17:05', '17:04', '16:52', '16:51', '16:48', '16:47', '16:29','16:28','16:28','16:26', '16:33', '16:33'\n",
    "             , '16:30','16:30' ,'16:35','16:35','16:34', '16:34', '16:40', '16:39', '16:39', '16:38', '16:47', '16:46', '16:46', '16:40', '16:25', '16:25', '16:24',\n",
    "             '16:24', '16:20', '16:18' , '16:17', '16:17', '16:22', '16:21', '16:21', '16:20', '16:16','16:16', '16:11','16:11', '16:08', '16:07', '16:06','16:02', \n",
    "             '16:10','16:10','16:09','16:08','16:02', '16:01', '16:01',  '16:00', '15:46', '15:46', '15:45', '15:44','15:52', '15:51','15:49','15:47','16:00',\n",
    "             '15:53','15:53','15:52','15:33','15:32','15:32','15:31','15:31','15:30','15:26','15:26','15:25', '15:25','15:24','14:55', ],\n",
    "\n",
    "\n",
    "\n",
    "\n",
    "    'Download(Mbps)': ['1,14', '24,2', '27,6', '23,6', '27,6', '23,6',\n",
    "                 '16,4 ', '30,5 ', '25,6 ','11,5 ', '31,9 ', '24,1',\n",
    "                 '26,5 ', '28,0 ', '31,0 ','15,0 ','26,5 ', '32,9 ',\n",
    "                 '19,0 ', '15,8 ', '26,7 ', '30,9 ', '29,8 ', '26,3 ','36,9 ', '34,6 ',\n",
    "                 '34,3 ', '36,8 ', '37,4 ', '34,5','30,0', '30,0', '18,2', '26,3', '50,9 ',\n",
    "                 '49,5', '15,0 ', '2,76 ', '6,45 ', '11,9 ', '37,3 ', '41,6 ', '10,7 ', '13,5 ', '35,8 ',\n",
    "                   '40,4 ','42,8 ', '38,5 ', '33,3 ', '37,8 ', '42,1 ', '32,2 ', '24,6 ', '46,3 ', '20,4 ', '22,8 ', \n",
    "                   '12,8 ', '13,1 ', '11,4 ', '10,2 ', '30,1 ', '30,3 ', '33,1 ', '20,2', '24,8', '22,9', '21,2', '18,5', '27,6', '21,7', '13,8', '13,1', '0', '14,2', '16,6',\n",
    "                   '23', '11,8', '9,1', '17,5', '15,8', '24,1', '34,2', '25,8', '32,2', '12,8', '20,2', '20,2', '13,1', '34,9', '40,4', '18,8', '18,4', '23,2',\n",
    "                   '35,8', '22,1', '29,7', '20,5', '27,4', '31,4', '29,9', '31,2', '37,4', '42,4', '28,4', '14,1', '25,4', '31,6', '11,9'],\n",
    "\n",
    "\n",
    "  #91kbps p primeiro\n",
    "    'Upload(Mbps)': ['0,091', '8,74 ', '8,46 ', '8,46 ','8,46 ', '8,46 ',\n",
    "               '8,35 ', '9,20 ','7,62 ', '6,92 ', '6,94 ', '7,57 ',\n",
    "               '6,66 ', '7,13 ', '9,42 ','3,95 ', '9,06 ', '9,18 ', '8,05 ',\n",
    "               '9,56 ', '6,46 ',  '7,91 ', '8,54 ', '7,16 ', '4,24 ', '1,99 ', '7,55 ',\n",
    "               '6,90 ', '2,05 ', '2,16 ', '2,41 ', '2,14 ', '8,71 ', '8,74 ', '9,42',\n",
    "               '9,65 ', '6,10 ', '4,52 ', '3,88 ', '4,14 ', '7,94 ', '8,06 ', '6,54 ', '6,07 ','8,33 ',\n",
    "               '8,14 ', '7,98 ', '8,32 ', '8,51 ', '8,53 ', '9,08 ', '8,72 ', '9,30 ', '9,09 ', '8,30 ', '8,32 ',\n",
    "               '4,04 ', '3,31 ', '4,01 ', '4,84 ', '5,21 ', '8,55 ', '7,37', '8,24', '4,10', '5,20', '5,95', '5,75', '7,82', '8,49', '1,06', '1,51', '1,78', '1,61', '2,27',\n",
    "               '5,45', '1,94', '1,36', '2,07', '1,45', '1,71', '4,69', '3,27', '3,71', '3,4', '6,17', '4,54', '5,57', '8,8', '8,92', '5,49', '2,30', '2,6',\n",
    "               '9,58', '7,95', '8,36', '8,33', '7,86', '8,3', '8,75', '9,16', '7,92', '8,15', '8,48', '8,12', '7,6', '8,75', '1,97'],\n",
    "\n",
    "\n",
    "\n",
    "    'Latencia(ms)': ['241', '31', '30', '62', '30', '62', '31', '28', '33', '86', '27', '560',\n",
    "                 '44', '32', '27', '39', '40', '53', '40', '37', '41', '40', '38',\n",
    "                '38', '1107', '42', '176', '497', '46', '856', '1679', '58', '37', '36', '43', '37',\n",
    "                '283', '48', '38', '728', '42', '39', '870', '53', '46', '43', '40', '41', '54', '39', '66', \n",
    "                '39 ', '37', '39', '37', '62', '740', '992', '52', '58', '45', '49', '51', '52', '61', '68', '63', '66', '56', '43', '439', '64', '2506', '1248', '44', '862',\n",
    "                '53', '61', '58', '1894', '802', '78', '42', '58', '63', '632','38', '41', '66', '39', '61', '44', '35', '61', '60', '53', '66', '67', '64',\n",
    "                '56', '64', '39', '50', '51', '370', '55', '44', '48']\n",
    "}\n",
    "\n",
    "df = pd.DataFrame(data)"
   ]
  },
  {
   "cell_type": "code",
   "execution_count": 2,
   "metadata": {},
   "outputs": [],
   "source": [
    "df1 =df"
   ]
  },
  {
   "cell_type": "code",
   "execution_count": 3,
   "metadata": {},
   "outputs": [
    {
     "name": "stdout",
     "output_type": "stream",
     "text": [
      "          Data      Hora Download(Mbps) Upload(Mbps) Latencia(ms)\n",
      "107 2024-04-11  14:55:00           11,9         1,97           48\n",
      "106 2024-04-11  15:24:00           31,6         8,75           44\n",
      "105 2024-04-11  15:25:00           25,4          7,6           55\n",
      "104 2024-04-11  15:25:00           14,1         8,12          370\n",
      "103 2024-04-11  15:26:00           28,4         8,48           51\n",
      "..         ...       ...            ...          ...          ...\n",
      "3   2024-04-17  07:43:00           23,6        8,46            62\n",
      "4   2024-04-17  07:44:00           27,6        8,46            30\n",
      "2   2024-04-17  07:44:00           27,6        8,46            30\n",
      "1   2024-04-17  07:44:00           24,2        8,74            31\n",
      "0   2024-04-22  15:24:00           1,14        0,091          241\n",
      "\n",
      "[108 rows x 5 columns]\n"
     ]
    }
   ],
   "source": [
    "import pandas as pd\n",
    "\n",
    "def ordenar_por_data_hora(df, coluna_data='Data', coluna_hora='Hora'):\n",
    "    \"\"\"\n",
    "    Ordena um DataFrame baseado nas colunas de data e hora.\n",
    "\n",
    "    Parâmetros:\n",
    "        df (pd.DataFrame): DataFrame a ser ordenado.\n",
    "        coluna_data (str): Nome da coluna que contém as datas no formato 'DD/MM/YYYY'.\n",
    "        coluna_hora (str): Nome da coluna que contém as horas no formato 'HH:MM'.\n",
    "\n",
    "    Retorna:\n",
    "        pd.DataFrame: DataFrame ordenado.\n",
    "    \"\"\"\n",
    "    # Verifica e converte as colunas de data e hora para datetime, se necessário\n",
    "    if not pd.api.types.is_datetime64_any_dtype(df[coluna_data]):\n",
    "        df[coluna_data] = pd.to_datetime(df[coluna_data], format='%d/%m/%Y', errors='coerce')\n",
    "    \n",
    "    if not pd.api.types.is_datetime64_any_dtype(df[coluna_hora]):\n",
    "        df[coluna_hora] = pd.to_datetime(df[coluna_hora], format='%H:%M', errors='coerce').dt.time\n",
    "\n",
    "    # Combinar data e hora em uma nova coluna datetime\n",
    "    df['datetime'] = df.apply(lambda row: pd.to_datetime(f\"{row[coluna_data]} {row[coluna_hora]}\", errors='coerce'), axis=1)\n",
    "\n",
    "    # Ordenar o DataFrame pela coluna datetime e remover a coluna datetime após a ordenação\n",
    "    df.sort_values('datetime', inplace=True)\n",
    "    df.drop('datetime', axis=1, inplace=True)\n",
    "\n",
    "    # Retorna o DataFrame ordenado\n",
    "    return df\n",
    "\n",
    "# Exemplo de uso da função:\n",
    "\n",
    "df1 = pd.DataFrame(data)\n",
    "df_ordenado = ordenar_por_data_hora(df1)\n",
    "print(df_ordenado)\n"
   ]
  },
  {
   "cell_type": "code",
   "execution_count": 4,
   "metadata": {},
   "outputs": [],
   "source": [
    "df_ordenado['Download(Mbps)'] = df_ordenado['Download(Mbps)'].str.replace(',', '.').str.strip()\n",
    "df_ordenado['Download(Mbps)'] = pd.to_numeric(df_ordenado['Download(Mbps)'], errors='coerce')\n"
   ]
  },
  {
   "cell_type": "code",
   "execution_count": 5,
   "metadata": {},
   "outputs": [],
   "source": [
    "df_ordenado['Upload(Mbps)'] = df_ordenado['Upload(Mbps)'].str.replace(',', '.').str.strip()\n",
    "df_ordenado['Upload(Mbps)'] = pd.to_numeric(df_ordenado['Upload(Mbps)'], errors='coerce')"
   ]
  },
  {
   "cell_type": "code",
   "execution_count": 6,
   "metadata": {},
   "outputs": [],
   "source": [
    "df_ordenado['Latencia(ms)'] = df_ordenado['Latencia(ms)'].str.replace(',', '.').str.strip()\n",
    "df_ordenado['Latencia(ms)'] = pd.to_numeric(df_ordenado['Latencia(ms)'], errors='coerce')"
   ]
  },
  {
   "cell_type": "code",
   "execution_count": 7,
   "metadata": {},
   "outputs": [
    {
     "name": "stdout",
     "output_type": "stream",
     "text": [
      "<class 'pandas.core.frame.DataFrame'>\n",
      "Index: 108 entries, 107 to 0\n",
      "Data columns (total 5 columns):\n",
      " #   Column          Non-Null Count  Dtype         \n",
      "---  ------          --------------  -----         \n",
      " 0   Data            108 non-null    datetime64[ns]\n",
      " 1   Hora            108 non-null    object        \n",
      " 2   Download(Mbps)  108 non-null    float64       \n",
      " 3   Upload(Mbps)    108 non-null    float64       \n",
      " 4   Latencia(ms)    108 non-null    int64         \n",
      "dtypes: datetime64[ns](1), float64(2), int64(1), object(1)\n",
      "memory usage: 5.1+ KB\n"
     ]
    }
   ],
   "source": [
    "df_ordenado.info()"
   ]
  },
  {
   "cell_type": "code",
   "execution_count": 8,
   "metadata": {},
   "outputs": [],
   "source": [
    "df_ordenado.reset_index(drop=True, inplace=True)"
   ]
  },
  {
   "cell_type": "code",
   "execution_count": 9,
   "metadata": {},
   "outputs": [
    {
     "data": {
      "text/plain": [
       "114.0"
      ]
     },
     "execution_count": 9,
     "metadata": {},
     "output_type": "execute_result"
    }
   ],
   "source": [
    "# -6.105891, -38.183807\n",
    "# proximo a ufersa\n",
    "dado_1 = df_ordenado.iloc[1:6]\n",
    "\n",
    "media_download_1 = dado_1['Download(Mbps)'].mean()\n",
    "media_download_1\n",
    "\n",
    "media_upload_1 = dado_1['Upload(Mbps)'].mean()\n",
    "media_upload_1\n",
    "\n",
    "media_latencia_1 = dado_1['Latencia(ms)'].mean()\n",
    "media_latencia_1"
   ]
  },
  {
   "cell_type": "code",
   "execution_count": 10,
   "metadata": {},
   "outputs": [
    {
     "data": {
      "text/html": [
       "<div>\n",
       "<style scoped>\n",
       "    .dataframe tbody tr th:only-of-type {\n",
       "        vertical-align: middle;\n",
       "    }\n",
       "\n",
       "    .dataframe tbody tr th {\n",
       "        vertical-align: top;\n",
       "    }\n",
       "\n",
       "    .dataframe thead th {\n",
       "        text-align: right;\n",
       "    }\n",
       "</style>\n",
       "<table border=\"1\" class=\"dataframe\">\n",
       "  <thead>\n",
       "    <tr style=\"text-align: right;\">\n",
       "      <th></th>\n",
       "      <th>Data</th>\n",
       "      <th>Hora</th>\n",
       "      <th>Download(Mbps)</th>\n",
       "      <th>Upload(Mbps)</th>\n",
       "      <th>Latencia(ms)</th>\n",
       "    </tr>\n",
       "  </thead>\n",
       "  <tbody>\n",
       "    <tr>\n",
       "      <th>1</th>\n",
       "      <td>2024-04-11</td>\n",
       "      <td>15:24:00</td>\n",
       "      <td>31.6</td>\n",
       "      <td>8.75</td>\n",
       "      <td>44</td>\n",
       "    </tr>\n",
       "    <tr>\n",
       "      <th>2</th>\n",
       "      <td>2024-04-11</td>\n",
       "      <td>15:25:00</td>\n",
       "      <td>25.4</td>\n",
       "      <td>7.60</td>\n",
       "      <td>55</td>\n",
       "    </tr>\n",
       "    <tr>\n",
       "      <th>3</th>\n",
       "      <td>2024-04-11</td>\n",
       "      <td>15:25:00</td>\n",
       "      <td>14.1</td>\n",
       "      <td>8.12</td>\n",
       "      <td>370</td>\n",
       "    </tr>\n",
       "    <tr>\n",
       "      <th>4</th>\n",
       "      <td>2024-04-11</td>\n",
       "      <td>15:26:00</td>\n",
       "      <td>28.4</td>\n",
       "      <td>8.48</td>\n",
       "      <td>51</td>\n",
       "    </tr>\n",
       "    <tr>\n",
       "      <th>5</th>\n",
       "      <td>2024-04-11</td>\n",
       "      <td>15:26:00</td>\n",
       "      <td>42.4</td>\n",
       "      <td>8.15</td>\n",
       "      <td>50</td>\n",
       "    </tr>\n",
       "  </tbody>\n",
       "</table>\n",
       "</div>"
      ],
      "text/plain": [
       "        Data      Hora  Download(Mbps)  Upload(Mbps)  Latencia(ms)\n",
       "1 2024-04-11  15:24:00            31.6          8.75            44\n",
       "2 2024-04-11  15:25:00            25.4          7.60            55\n",
       "3 2024-04-11  15:25:00            14.1          8.12           370\n",
       "4 2024-04-11  15:26:00            28.4          8.48            51\n",
       "5 2024-04-11  15:26:00            42.4          8.15            50"
      ]
     },
     "execution_count": 10,
     "metadata": {},
     "output_type": "execute_result"
    }
   ],
   "source": [
    "dado_1"
   ]
  },
  {
   "cell_type": "code",
   "execution_count": 52,
   "metadata": {},
   "outputs": [
    {
     "data": {
      "text/plain": [
       "8.22"
      ]
     },
     "execution_count": 52,
     "metadata": {},
     "output_type": "execute_result"
    }
   ],
   "source": [
    "dado_1['Upload(Mbps)'].mean()"
   ]
  },
  {
   "cell_type": "code",
   "execution_count": 13,
   "metadata": {},
   "outputs": [
    {
     "name": "stdout",
     "output_type": "stream",
     "text": [
      "29.633333333333336\n",
      "8.386666666666665\n",
      "59.333333333333336\n"
     ]
    }
   ],
   "source": [
    "# -6.106529, -38.186827 \n",
    "\n",
    "\n",
    "dado_2 = df_ordenado.iloc[6:12]\n",
    "\n",
    "\n",
    "\n",
    "media_download_2 = dado_2['Download(Mbps)'].mean()\n",
    "print(media_download_2)\n",
    "\n",
    "media_upload_2 = dado_2['Upload(Mbps)'].mean()\n",
    "print(media_upload_2)\n",
    "\n",
    "media_latencia_2 = dado_2['Latencia(ms)'].mean()\n",
    "print(media_latencia_2)"
   ]
  },
  {
   "cell_type": "code",
   "execution_count": 14,
   "metadata": {},
   "outputs": [
    {
     "name": "stdout",
     "output_type": "stream",
     "text": [
      "16.939999999999998\n",
      "4.396\n",
      "163.6\n"
     ]
    }
   ],
   "source": [
    "\n",
    "\n",
    "# -6.108678, -38.193110\n",
    "dado_3= df_ordenado.iloc[12:17]\n",
    "\n",
    "media_download_3 = dado_3['Download(Mbps)'].mean()\n",
    "print(media_download_3)\n",
    "\n",
    "media_upload_3 = dado_3['Upload(Mbps)'].mean()\n",
    "print(media_upload_3)\n",
    "\n",
    "media_latencia_3 = dado_3['Latencia(ms)'].mean()\n",
    "print(media_latencia_3)\n"
   ]
  },
  {
   "cell_type": "code",
   "execution_count": 15,
   "metadata": {},
   "outputs": [
    {
     "name": "stdout",
     "output_type": "stream",
     "text": [
      "32.58\n",
      "8.722\n",
      "55.8\n"
     ]
    }
   ],
   "source": [
    "\n",
    "\n",
    "# -6.108626, -38.195952\n",
    "dado_4 = df_ordenado.iloc[18:23]\n",
    "\n",
    "media_download_4 = dado_4['Download(Mbps)'].mean()\n",
    "print(media_download_4)\n",
    "\n",
    "media_upload_4 = dado_4['Upload(Mbps)'].mean()\n",
    "print(media_upload_4)\n",
    "\n",
    "media_latencia_4 = dado_4['Latencia(ms)'].mean()\n",
    "print(media_latencia_4)\n"
   ]
  },
  {
   "cell_type": "code",
   "execution_count": 17,
   "metadata": {},
   "outputs": [
    {
     "data": {
      "text/html": [
       "<div>\n",
       "<style scoped>\n",
       "    .dataframe tbody tr th:only-of-type {\n",
       "        vertical-align: middle;\n",
       "    }\n",
       "\n",
       "    .dataframe tbody tr th {\n",
       "        vertical-align: top;\n",
       "    }\n",
       "\n",
       "    .dataframe thead th {\n",
       "        text-align: right;\n",
       "    }\n",
       "</style>\n",
       "<table border=\"1\" class=\"dataframe\">\n",
       "  <thead>\n",
       "    <tr style=\"text-align: right;\">\n",
       "      <th></th>\n",
       "      <th>Data</th>\n",
       "      <th>Hora</th>\n",
       "      <th>Download(Mbps)</th>\n",
       "      <th>Upload(Mbps)</th>\n",
       "      <th>Latencia(ms)</th>\n",
       "    </tr>\n",
       "  </thead>\n",
       "  <tbody>\n",
       "    <tr>\n",
       "      <th>18</th>\n",
       "      <td>2024-04-11</td>\n",
       "      <td>15:51:00</td>\n",
       "      <td>40.4</td>\n",
       "      <td>8.92</td>\n",
       "      <td>39</td>\n",
       "    </tr>\n",
       "    <tr>\n",
       "      <th>19</th>\n",
       "      <td>2024-04-11</td>\n",
       "      <td>15:52:00</td>\n",
       "      <td>34.9</td>\n",
       "      <td>8.80</td>\n",
       "      <td>66</td>\n",
       "    </tr>\n",
       "    <tr>\n",
       "      <th>20</th>\n",
       "      <td>2024-04-11</td>\n",
       "      <td>15:52:00</td>\n",
       "      <td>29.7</td>\n",
       "      <td>8.36</td>\n",
       "      <td>53</td>\n",
       "    </tr>\n",
       "    <tr>\n",
       "      <th>21</th>\n",
       "      <td>2024-04-11</td>\n",
       "      <td>15:53:00</td>\n",
       "      <td>35.8</td>\n",
       "      <td>9.58</td>\n",
       "      <td>61</td>\n",
       "    </tr>\n",
       "    <tr>\n",
       "      <th>22</th>\n",
       "      <td>2024-04-11</td>\n",
       "      <td>15:53:00</td>\n",
       "      <td>22.1</td>\n",
       "      <td>7.95</td>\n",
       "      <td>60</td>\n",
       "    </tr>\n",
       "  </tbody>\n",
       "</table>\n",
       "</div>"
      ],
      "text/plain": [
       "         Data      Hora  Download(Mbps)  Upload(Mbps)  Latencia(ms)\n",
       "18 2024-04-11  15:51:00            40.4          8.92            39\n",
       "19 2024-04-11  15:52:00            34.9          8.80            66\n",
       "20 2024-04-11  15:52:00            29.7          8.36            53\n",
       "21 2024-04-11  15:53:00            35.8          9.58            61\n",
       "22 2024-04-11  15:53:00            22.1          7.95            60"
      ]
     },
     "execution_count": 17,
     "metadata": {},
     "output_type": "execute_result"
    }
   ],
   "source": [
    "dado_4"
   ]
  },
  {
   "cell_type": "code",
   "execution_count": 16,
   "metadata": {},
   "outputs": [
    {
     "name": "stdout",
     "output_type": "stream",
     "text": [
      "27.9\n",
      "3.196\n",
      "203.0\n"
     ]
    }
   ],
   "source": [
    "# 6°06'29.8\"S 38°11'59.2\"W\n",
    "dado_5  = df_ordenado.iloc[23:28]\n",
    "\n",
    "\n",
    "media_download_5 = dado_5['Download(Mbps)'].mean()\n",
    "print(media_download_5)\n",
    "\n",
    "media_upload_5 = dado_5['Upload(Mbps)'].mean()\n",
    "print(media_upload_5)\n",
    "\n",
    "media_latencia_5 = dado_5['Latencia(ms)'].mean()\n",
    "print(media_latencia_5)\n"
   ]
  },
  {
   "cell_type": "code",
   "execution_count": 18,
   "metadata": {},
   "outputs": [
    {
     "name": "stdout",
     "output_type": "stream",
     "text": [
      "12.819999999999999\n",
      "1.8359999999999999\n",
      "1150.0\n"
     ]
    }
   ],
   "source": [
    "# -6.108707, -38.211363\n",
    "\n",
    "dado_6 =  df_ordenado.iloc[29:34]\n",
    "\n",
    "media_download_6 = dado_6['Download(Mbps)'].mean()\n",
    "print(media_download_6)\n",
    "\n",
    "media_upload_6 = dado_6['Upload(Mbps)'].mean()\n",
    "print(media_upload_6)\n",
    "\n",
    "media_latencia_6 = dado_6['Latencia(ms)'].mean()\n",
    "print(media_latencia_6)"
   ]
  },
  {
   "cell_type": "code",
   "execution_count": 19,
   "metadata": {},
   "outputs": [
    {
     "name": "stdout",
     "output_type": "stream",
     "text": [
      "11.95\n",
      "1.4674999999999998\n",
      "154.25\n"
     ]
    }
   ],
   "source": [
    "# ginasio poliesportivo\n",
    "# -6.114058, -38.227961\n",
    "\n",
    "dado_7 = df_ordenado.iloc[34:38]\n",
    "\n",
    "media_download_7 = dado_7['Download(Mbps)'].mean()\n",
    "print(media_download_7)\n",
    "\n",
    "media_upload_7 = dado_7['Upload(Mbps)'].mean()\n",
    "print(media_upload_7)\n",
    "\n",
    "media_latencia_7 = dado_7['Latencia(ms)'].mean()\n",
    "print(media_latencia_7)"
   ]
  },
  {
   "cell_type": "code",
   "execution_count": 21,
   "metadata": {},
   "outputs": [
    {
     "name": "stdout",
     "output_type": "stream",
     "text": [
      "26.580000000000002\n",
      "8.094\n",
      "50.2\n"
     ]
    }
   ],
   "source": [
    "# -6.112569, -38.222390\n",
    "# Escola Estadual João Escolastico\n",
    "dado_8 = df_ordenado.iloc[38:43]\n",
    "\n",
    "media_download_8 = dado_8['Download(Mbps)'].mean()\n",
    "print(media_download_8)\n",
    "\n",
    "media_upload_8 = dado_8['Upload(Mbps)'].mean()\n",
    "print(media_upload_8)\n",
    "\n",
    "media_latencia_8 = dado_8['Latencia(ms)'].mean()\n",
    "print(media_latencia_8)"
   ]
  },
  {
   "cell_type": "code",
   "execution_count": 22,
   "metadata": {},
   "outputs": [
    {
     "data": {
      "text/html": [
       "<div>\n",
       "<style scoped>\n",
       "    .dataframe tbody tr th:only-of-type {\n",
       "        vertical-align: middle;\n",
       "    }\n",
       "\n",
       "    .dataframe tbody tr th {\n",
       "        vertical-align: top;\n",
       "    }\n",
       "\n",
       "    .dataframe thead th {\n",
       "        text-align: right;\n",
       "    }\n",
       "</style>\n",
       "<table border=\"1\" class=\"dataframe\">\n",
       "  <thead>\n",
       "    <tr style=\"text-align: right;\">\n",
       "      <th></th>\n",
       "      <th>Data</th>\n",
       "      <th>Hora</th>\n",
       "      <th>Download(Mbps)</th>\n",
       "      <th>Upload(Mbps)</th>\n",
       "      <th>Latencia(ms)</th>\n",
       "    </tr>\n",
       "  </thead>\n",
       "  <tbody>\n",
       "    <tr>\n",
       "      <th>38</th>\n",
       "      <td>2024-04-11</td>\n",
       "      <td>16:16:00</td>\n",
       "      <td>21.7</td>\n",
       "      <td>8.49</td>\n",
       "      <td>43</td>\n",
       "    </tr>\n",
       "    <tr>\n",
       "      <th>39</th>\n",
       "      <td>2024-04-11</td>\n",
       "      <td>16:16:00</td>\n",
       "      <td>27.6</td>\n",
       "      <td>7.82</td>\n",
       "      <td>56</td>\n",
       "    </tr>\n",
       "    <tr>\n",
       "      <th>40</th>\n",
       "      <td>2024-04-11</td>\n",
       "      <td>16:17:00</td>\n",
       "      <td>33.1</td>\n",
       "      <td>7.37</td>\n",
       "      <td>51</td>\n",
       "    </tr>\n",
       "    <tr>\n",
       "      <th>41</th>\n",
       "      <td>2024-04-11</td>\n",
       "      <td>16:17:00</td>\n",
       "      <td>20.2</td>\n",
       "      <td>8.24</td>\n",
       "      <td>52</td>\n",
       "    </tr>\n",
       "    <tr>\n",
       "      <th>42</th>\n",
       "      <td>2024-04-11</td>\n",
       "      <td>16:18:00</td>\n",
       "      <td>30.3</td>\n",
       "      <td>8.55</td>\n",
       "      <td>49</td>\n",
       "    </tr>\n",
       "  </tbody>\n",
       "</table>\n",
       "</div>"
      ],
      "text/plain": [
       "         Data      Hora  Download(Mbps)  Upload(Mbps)  Latencia(ms)\n",
       "38 2024-04-11  16:16:00            21.7          8.49            43\n",
       "39 2024-04-11  16:16:00            27.6          7.82            56\n",
       "40 2024-04-11  16:17:00            33.1          7.37            51\n",
       "41 2024-04-11  16:17:00            20.2          8.24            52\n",
       "42 2024-04-11  16:18:00            30.3          8.55            49"
      ]
     },
     "execution_count": 22,
     "metadata": {},
     "output_type": "execute_result"
    }
   ],
   "source": [
    "# brisanet 13 de maio\n",
    "\n",
    "# -6.109468, -38.208647\n",
    "dado_8"
   ]
  },
  {
   "cell_type": "code",
   "execution_count": 27,
   "metadata": {},
   "outputs": [
    {
     "name": "stdout",
     "output_type": "stream",
     "text": [
      "23.499999999999996\n",
      "5.242\n",
      "60.6\n"
     ]
    }
   ],
   "source": [
    "# paraiba calçados\n",
    "\n",
    "# -6.109726, -38.206018\n",
    "\n",
    "dado_9 = df_ordenado.iloc[43:48]\n",
    "\n",
    "\n",
    "media_download_9 = dado_9['Download(Mbps)'].mean()\n",
    "print(media_download_9)\n",
    "\n",
    "media_upload_9 = dado_9['Upload(Mbps)'].mean()\n",
    "print(media_upload_9)\n",
    "\n",
    "media_latencia_9 = dado_9['Latencia(ms)'].mean()\n",
    "print(media_latencia_9)"
   ]
  },
  {
   "cell_type": "code",
   "execution_count": 28,
   "metadata": {},
   "outputs": [
    {
     "name": "stdout",
     "output_type": "stream",
     "text": [
      "11.88\n",
      "4.068\n",
      "514.0\n"
     ]
    }
   ],
   "source": [
    "# banco do brasil\n",
    "\n",
    "# -6.112004, -38.206245\n",
    "\n",
    "dado_10 = df_ordenado.iloc[48:53]\n",
    "\n",
    "media_download_10 = dado_10['Download(Mbps)'].mean()\n",
    "print(media_download_10)\n",
    "\n",
    "media_upload_10 = dado_10['Upload(Mbps)'].mean()\n",
    "print(media_upload_10)\n",
    "\n",
    "media_latencia_10 = dado_10['Latencia(ms)'].mean()\n",
    "print(media_latencia_10)"
   ]
  },
  {
   "cell_type": "code",
   "execution_count": 29,
   "metadata": {},
   "outputs": [
    {
     "name": "stdout",
     "output_type": "stream",
     "text": [
      "9.681999999999999\n",
      "5.422\n",
      "258.4\n"
     ]
    }
   ],
   "source": [
    "# windstar\n",
    "\n",
    "# -6.112522, -38.204153\n",
    "\n",
    "dado_11 = df_ordenado.iloc[53:58]\n",
    "\n",
    "\n",
    "\n",
    "media_download_11 = dado_11['Download(Mbps)'].mean()\n",
    "print(media_download_11)\n",
    "\n",
    "media_upload_11 = dado_11['Upload(Mbps)'].mean()\n",
    "print(media_upload_11)\n",
    "\n",
    "media_latencia_11 = dado_11['Latencia(ms)'].mean()\n",
    "print(media_latencia_11)"
   ]
  },
  {
   "cell_type": "code",
   "execution_count": 30,
   "metadata": {},
   "outputs": [
    {
     "name": "stdout",
     "output_type": "stream",
     "text": [
      "39.4\n",
      "8.128333333333332\n",
      "41.833333333333336\n"
     ]
    }
   ],
   "source": [
    "# pedra (caminho para o campus)\n",
    "# -6.115187, -38.200457\n",
    "\n",
    "dado_12 = df_ordenado.iloc[58:64]\n",
    "\n",
    "\n",
    "media_download_12 = dado_12['Download(Mbps)'].mean()\n",
    "print(media_download_12)\n",
    "\n",
    "media_upload_12 = dado_12['Upload(Mbps)'].mean()\n",
    "print(media_upload_12)\n",
    "\n",
    "media_latencia_12 = dado_12['Latencia(ms)'].mean()\n",
    "print(media_latencia_12)"
   ]
  },
  {
   "cell_type": "code",
   "execution_count": 31,
   "metadata": {},
   "outputs": [
    {
     "name": "stdout",
     "output_type": "stream",
     "text": [
      "33.64\n",
      "8.632\n",
      "52.0\n"
     ]
    }
   ],
   "source": [
    "#perto do banco bradesco\n",
    "\n",
    "dado_13 = df_ordenado.iloc[64:69]\n",
    "\n",
    "\n",
    "media_download_13 = dado_13['Download(Mbps)'].mean()\n",
    "print(media_download_13)\n",
    "\n",
    "media_upload_13 = dado_13['Upload(Mbps)'].mean()\n",
    "print(media_upload_13)\n",
    "\n",
    "media_latencia_13 = dado_13['Latencia(ms)'].mean()\n",
    "print(media_latencia_13)"
   ]
  },
  {
   "cell_type": "code",
   "execution_count": 32,
   "metadata": {},
   "outputs": [
    {
     "name": "stdout",
     "output_type": "stream",
     "text": [
      "38.339999999999996\n",
      "9.152000000000001\n",
      "38.6\n"
     ]
    }
   ],
   "source": [
    "\n",
    "\n",
    "# R. Francisco Alves Queirós, 206\n",
    "# -6.126899, -38.205552\n",
    "\n",
    "dado_14 = df_ordenado.iloc[69:74]\n",
    "\n",
    "media_download_14 = dado_14['Download(Mbps)'].mean()\n",
    "print(media_download_14)\n",
    "\n",
    "media_upload_14 = dado_14['Upload(Mbps)'].mean()\n",
    "print(media_upload_14)\n",
    "\n",
    "media_latencia_14 = dado_14['Latencia(ms)'].mean()\n",
    "print(media_latencia_14)"
   ]
  },
  {
   "cell_type": "code",
   "execution_count": 33,
   "metadata": {},
   "outputs": [
    {
     "name": "stdout",
     "output_type": "stream",
     "text": [
      "23.116666666666664\n",
      "8.883333333333335\n",
      "40.5\n"
     ]
    }
   ],
   "source": [
    "# atacarejo\n",
    "# -6.132403, -38.206960\n",
    "\n",
    "dado_15 = df_ordenado.iloc[74:80]\n",
    "\n",
    "\n",
    "media_download_15 = dado_15['Download(Mbps)'].mean()\n",
    "print(media_download_15)\n",
    "\n",
    "media_upload_15 = dado_15['Upload(Mbps)'].mean()\n",
    "print(media_upload_15)\n",
    "\n",
    "media_latencia_15 = dado_15['Latencia(ms)'].mean()\n",
    "print(media_latencia_15)"
   ]
  },
  {
   "cell_type": "code",
   "execution_count": 34,
   "metadata": {},
   "outputs": [
    {
     "name": "stdout",
     "output_type": "stream",
     "text": [
      "30.8\n",
      "7.419999999999999\n",
      "138.33333333333334\n"
     ]
    }
   ],
   "source": [
    "# brisanet perto do IF\n",
    "\n",
    "# -6.145352, -38.205374\n",
    "\n",
    "dado_16 = df_ordenado.iloc[80:86]\n",
    "\n",
    "\n",
    "media_download_16 = dado_16['Download(Mbps)'].mean()\n",
    "print(media_download_16)\n",
    "\n",
    "media_upload_16 = dado_16['Upload(Mbps)'].mean()\n",
    "print(media_upload_16)\n",
    "\n",
    "media_latencia_16 = dado_16['Latencia(ms)'].mean()\n",
    "print(media_latencia_16)"
   ]
  },
  {
   "cell_type": "code",
   "execution_count": 35,
   "metadata": {},
   "outputs": [
    {
     "name": "stdout",
     "output_type": "stream",
     "text": [
      "33.9\n",
      "2.4983333333333335\n",
      "631.3333333333334\n"
     ]
    }
   ],
   "source": [
    "# sitio caja \n",
    "# -6.138702, -38.201366\n",
    "\n",
    "dado_17 = df_ordenado.iloc[86:92]\n",
    "\n",
    "\n",
    "\n",
    "media_download_17 = dado_17['Download(Mbps)'].mean()\n",
    "print(media_download_17)\n",
    "\n",
    "media_upload_17 = dado_17['Upload(Mbps)'].mean()\n",
    "print(media_upload_17)\n",
    "\n",
    "media_latencia_17 = dado_17['Latencia(ms)'].mean()\n",
    "print(media_latencia_17)"
   ]
  },
  {
   "cell_type": "code",
   "execution_count": null,
   "metadata": {},
   "outputs": [
    {
     "data": {
      "text/html": [
       "<div>\n",
       "<style scoped>\n",
       "    .dataframe tbody tr th:only-of-type {\n",
       "        vertical-align: middle;\n",
       "    }\n",
       "\n",
       "    .dataframe tbody tr th {\n",
       "        vertical-align: top;\n",
       "    }\n",
       "\n",
       "    .dataframe thead th {\n",
       "        text-align: right;\n",
       "    }\n",
       "</style>\n",
       "<table border=\"1\" class=\"dataframe\">\n",
       "  <thead>\n",
       "    <tr style=\"text-align: right;\">\n",
       "      <th></th>\n",
       "      <th>Data</th>\n",
       "      <th>Hora</th>\n",
       "      <th>Download(Mbps)</th>\n",
       "      <th>Upload(Mbps)</th>\n",
       "      <th>Latencia(ms)</th>\n",
       "    </tr>\n",
       "  </thead>\n",
       "  <tbody>\n",
       "    <tr>\n",
       "      <th>92</th>\n",
       "      <td>2024-04-12</td>\n",
       "      <td>15:59:00</td>\n",
       "      <td>15,0</td>\n",
       "      <td>3,95</td>\n",
       "      <td>39</td>\n",
       "    </tr>\n",
       "  </tbody>\n",
       "</table>\n",
       "</div>"
      ],
      "text/plain": [
       "         Data      Hora Download(Mbps) Upload(Mbps) Latencia(ms)\n",
       "92 2024-04-12  15:59:00          15,0         3,95            39"
      ]
     },
     "execution_count": 33,
     "metadata": {},
     "output_type": "execute_result"
    }
   ],
   "source": [
    "df_ordenado.iloc[[92]]"
   ]
  },
  {
   "cell_type": "code",
   "execution_count": null,
   "metadata": {},
   "outputs": [
    {
     "data": {
      "text/html": [
       "<div>\n",
       "<style scoped>\n",
       "    .dataframe tbody tr th:only-of-type {\n",
       "        vertical-align: middle;\n",
       "    }\n",
       "\n",
       "    .dataframe tbody tr th {\n",
       "        vertical-align: top;\n",
       "    }\n",
       "\n",
       "    .dataframe thead th {\n",
       "        text-align: right;\n",
       "    }\n",
       "</style>\n",
       "<table border=\"1\" class=\"dataframe\">\n",
       "  <thead>\n",
       "    <tr style=\"text-align: right;\">\n",
       "      <th></th>\n",
       "      <th>Data</th>\n",
       "      <th>Hora</th>\n",
       "      <th>Download(Mbps)</th>\n",
       "      <th>Upload(Mbps)</th>\n",
       "      <th>Latencia(ms)</th>\n",
       "    </tr>\n",
       "  </thead>\n",
       "  <tbody>\n",
       "    <tr>\n",
       "      <th>93</th>\n",
       "      <td>2024-04-13</td>\n",
       "      <td>15:37:00</td>\n",
       "      <td>31,0</td>\n",
       "      <td>9,42</td>\n",
       "      <td>27</td>\n",
       "    </tr>\n",
       "    <tr>\n",
       "      <th>94</th>\n",
       "      <td>2024-04-13</td>\n",
       "      <td>15:38:00</td>\n",
       "      <td>28,0</td>\n",
       "      <td>7,13</td>\n",
       "      <td>32</td>\n",
       "    </tr>\n",
       "    <tr>\n",
       "      <th>95</th>\n",
       "      <td>2024-04-13</td>\n",
       "      <td>15:38:00</td>\n",
       "      <td>26,5</td>\n",
       "      <td>6,66</td>\n",
       "      <td>44</td>\n",
       "    </tr>\n",
       "    <tr>\n",
       "      <th>96</th>\n",
       "      <td>2024-04-13</td>\n",
       "      <td>15:39:00</td>\n",
       "      <td>24,1</td>\n",
       "      <td>7,57</td>\n",
       "      <td>560</td>\n",
       "    </tr>\n",
       "    <tr>\n",
       "      <th>97</th>\n",
       "      <td>2024-04-13</td>\n",
       "      <td>15:39:00</td>\n",
       "      <td>31,9</td>\n",
       "      <td>6,94</td>\n",
       "      <td>27</td>\n",
       "    </tr>\n",
       "  </tbody>\n",
       "</table>\n",
       "</div>"
      ],
      "text/plain": [
       "         Data      Hora Download(Mbps) Upload(Mbps) Latencia(ms)\n",
       "93 2024-04-13  15:37:00          31,0         9,42            27\n",
       "94 2024-04-13  15:38:00          28,0         7,13            32\n",
       "95 2024-04-13  15:38:00          26,5         6,66            44\n",
       "96 2024-04-13  15:39:00           24,1        7,57           560\n",
       "97 2024-04-13  15:39:00          31,9         6,94            27"
      ]
     },
     "execution_count": 34,
     "metadata": {},
     "output_type": "execute_result"
    }
   ],
   "source": [
    "# FALTA SABER ONDE FOI MEDIDO\n",
    "df_ordenado.iloc[93:98]"
   ]
  },
  {
   "cell_type": "code",
   "execution_count": null,
   "metadata": {},
   "outputs": [
    {
     "data": {
      "text/html": [
       "<div>\n",
       "<style scoped>\n",
       "    .dataframe tbody tr th:only-of-type {\n",
       "        vertical-align: middle;\n",
       "    }\n",
       "\n",
       "    .dataframe tbody tr th {\n",
       "        vertical-align: top;\n",
       "    }\n",
       "\n",
       "    .dataframe thead th {\n",
       "        text-align: right;\n",
       "    }\n",
       "</style>\n",
       "<table border=\"1\" class=\"dataframe\">\n",
       "  <thead>\n",
       "    <tr style=\"text-align: right;\">\n",
       "      <th></th>\n",
       "      <th>Data</th>\n",
       "      <th>Hora</th>\n",
       "      <th>Download(Mbps)</th>\n",
       "      <th>Upload(Mbps)</th>\n",
       "      <th>Latencia(ms)</th>\n",
       "    </tr>\n",
       "  </thead>\n",
       "  <tbody>\n",
       "    <tr>\n",
       "      <th>98</th>\n",
       "      <td>2024-04-17</td>\n",
       "      <td>07:41:00</td>\n",
       "      <td>11,5</td>\n",
       "      <td>6,92</td>\n",
       "      <td>86</td>\n",
       "    </tr>\n",
       "    <tr>\n",
       "      <th>99</th>\n",
       "      <td>2024-04-17</td>\n",
       "      <td>07:41:00</td>\n",
       "      <td>25,6</td>\n",
       "      <td>7,62</td>\n",
       "      <td>33</td>\n",
       "    </tr>\n",
       "    <tr>\n",
       "      <th>100</th>\n",
       "      <td>2024-04-17</td>\n",
       "      <td>07:42:00</td>\n",
       "      <td>30,5</td>\n",
       "      <td>9,20</td>\n",
       "      <td>28</td>\n",
       "    </tr>\n",
       "    <tr>\n",
       "      <th>101</th>\n",
       "      <td>2024-04-17</td>\n",
       "      <td>07:43:00</td>\n",
       "      <td>16,4</td>\n",
       "      <td>8,35</td>\n",
       "      <td>31</td>\n",
       "    </tr>\n",
       "    <tr>\n",
       "      <th>102</th>\n",
       "      <td>2024-04-17</td>\n",
       "      <td>07:43:00</td>\n",
       "      <td>23,6</td>\n",
       "      <td>8,46</td>\n",
       "      <td>62</td>\n",
       "    </tr>\n",
       "  </tbody>\n",
       "</table>\n",
       "</div>"
      ],
      "text/plain": [
       "          Data      Hora Download(Mbps) Upload(Mbps) Latencia(ms)\n",
       "98  2024-04-17  07:41:00          11,5         6,92            86\n",
       "99  2024-04-17  07:41:00          25,6         7,62            33\n",
       "100 2024-04-17  07:42:00          30,5         9,20            28\n",
       "101 2024-04-17  07:43:00          16,4         8,35            31\n",
       "102 2024-04-17  07:43:00           23,6        8,46            62"
      ]
     },
     "execution_count": 35,
     "metadata": {},
     "output_type": "execute_result"
    }
   ],
   "source": [
    "# FALTA SABER ONDE FOI MEDIDO\n",
    "df_ordenado.iloc[98:103]"
   ]
  },
  {
   "cell_type": "code",
   "execution_count": null,
   "metadata": {},
   "outputs": [
    {
     "data": {
      "text/html": [
       "<div>\n",
       "<style scoped>\n",
       "    .dataframe tbody tr th:only-of-type {\n",
       "        vertical-align: middle;\n",
       "    }\n",
       "\n",
       "    .dataframe tbody tr th {\n",
       "        vertical-align: top;\n",
       "    }\n",
       "\n",
       "    .dataframe thead th {\n",
       "        text-align: right;\n",
       "    }\n",
       "</style>\n",
       "<table border=\"1\" class=\"dataframe\">\n",
       "  <thead>\n",
       "    <tr style=\"text-align: right;\">\n",
       "      <th></th>\n",
       "      <th>Data</th>\n",
       "      <th>Hora</th>\n",
       "      <th>Download(Mbps)</th>\n",
       "      <th>Upload(Mbps)</th>\n",
       "      <th>Latencia(ms)</th>\n",
       "    </tr>\n",
       "  </thead>\n",
       "  <tbody>\n",
       "    <tr>\n",
       "      <th>103</th>\n",
       "      <td>2024-04-17</td>\n",
       "      <td>07:43:00</td>\n",
       "      <td>23,6</td>\n",
       "      <td>8,46</td>\n",
       "      <td>62</td>\n",
       "    </tr>\n",
       "    <tr>\n",
       "      <th>104</th>\n",
       "      <td>2024-04-17</td>\n",
       "      <td>07:44:00</td>\n",
       "      <td>27,6</td>\n",
       "      <td>8,46</td>\n",
       "      <td>30</td>\n",
       "    </tr>\n",
       "    <tr>\n",
       "      <th>105</th>\n",
       "      <td>2024-04-17</td>\n",
       "      <td>07:44:00</td>\n",
       "      <td>27,6</td>\n",
       "      <td>8,46</td>\n",
       "      <td>30</td>\n",
       "    </tr>\n",
       "    <tr>\n",
       "      <th>106</th>\n",
       "      <td>2024-04-17</td>\n",
       "      <td>07:44:00</td>\n",
       "      <td>24,2</td>\n",
       "      <td>8,74</td>\n",
       "      <td>31</td>\n",
       "    </tr>\n",
       "  </tbody>\n",
       "</table>\n",
       "</div>"
      ],
      "text/plain": [
       "          Data      Hora Download(Mbps) Upload(Mbps) Latencia(ms)\n",
       "103 2024-04-17  07:43:00           23,6        8,46            62\n",
       "104 2024-04-17  07:44:00           27,6        8,46            30\n",
       "105 2024-04-17  07:44:00           27,6        8,46            30\n",
       "106 2024-04-17  07:44:00           24,2        8,74            31"
      ]
     },
     "execution_count": 36,
     "metadata": {},
     "output_type": "execute_result"
    }
   ],
   "source": [
    "# FALTA SABER ONDE FOI MEDIDO\n",
    "\n",
    "df_ordenado.iloc[103:107]"
   ]
  },
  {
   "cell_type": "code",
   "execution_count": null,
   "metadata": {},
   "outputs": [
    {
     "data": {
      "text/html": [
       "<div>\n",
       "<style scoped>\n",
       "    .dataframe tbody tr th:only-of-type {\n",
       "        vertical-align: middle;\n",
       "    }\n",
       "\n",
       "    .dataframe tbody tr th {\n",
       "        vertical-align: top;\n",
       "    }\n",
       "\n",
       "    .dataframe thead th {\n",
       "        text-align: right;\n",
       "    }\n",
       "</style>\n",
       "<table border=\"1\" class=\"dataframe\">\n",
       "  <thead>\n",
       "    <tr style=\"text-align: right;\">\n",
       "      <th></th>\n",
       "      <th>Data</th>\n",
       "      <th>Hora</th>\n",
       "      <th>Download(Mbps)</th>\n",
       "      <th>Upload(Mbps)</th>\n",
       "      <th>Latencia(ms)</th>\n",
       "    </tr>\n",
       "  </thead>\n",
       "  <tbody>\n",
       "    <tr>\n",
       "      <th>107</th>\n",
       "      <td>2024-04-22</td>\n",
       "      <td>15:24:00</td>\n",
       "      <td>1,14</td>\n",
       "      <td>0,091</td>\n",
       "      <td>241</td>\n",
       "    </tr>\n",
       "  </tbody>\n",
       "</table>\n",
       "</div>"
      ],
      "text/plain": [
       "          Data      Hora Download(Mbps) Upload(Mbps) Latencia(ms)\n",
       "107 2024-04-22  15:24:00           1,14        0,091          241"
      ]
     },
     "execution_count": 37,
     "metadata": {},
     "output_type": "execute_result"
    }
   ],
   "source": [
    "df_ordenado.iloc[[107]]"
   ]
  },
  {
   "cell_type": "code",
   "execution_count": 63,
   "metadata": {},
   "outputs": [
    {
     "data": {
      "image/png": "[encoded data removed]",
      "text/plain": [
       "<Figure size 1000x700 with 1 Axes>"
      ]
     },
     "metadata": {},
     "output_type": "display_data"
    }
   ],
   "source": [
    "import pandas as pd\n",
    "import matplotlib.pyplot as plt\n",
    "import numpy as np\n",
    "\n",
    "# Exemplo de como seus dados podem estar organizados, substitua isso pela sua própria maneira de carregar os dados\n",
    "# Simulando dados para 17 pontos de medição\n",
    "dados = [dado_1, dado_2, dado_3, dado_4, dado_5, dado_6, dado_7, dado_8, dado_9, dado_10, dado_11, dado_12, dado_13, dado_14, dado_15, dado_16, dado_17]\n",
    "\n",
    "\n",
    "# Nomes dos pontos da cidade (substitua pelos reais)\n",
    "pontos_da_cidade = [f\"Ponto{i}\" for i in range(1, 18)]\n",
    "\n",
    "# Listas para armazenar as médias\n",
    "medias_download = []\n",
    "medias_upload = []\n",
    "medias_latencia = []\n",
    "\n",
    "# Calculando as médias para cada ponto\n",
    "for dado in dados:\n",
    "    medias_download.append(dado['Download(Mbps)'].mean())\n",
    "    medias_upload.append(dado['Upload(Mbps)'].mean())\n",
    "    medias_latencia.append(dado['Latencia(ms)'].mean())\n",
    "\n",
    "# Criando um DataFrame com os resultados\n",
    "df = pd.DataFrame({\n",
    "    'Ponto da Cidade': pontos_da_cidade,\n",
    "    'Download': medias_download,\n",
    "    'Upload': medias_upload,\n",
    "    'Latência': medias_latencia\n",
    "})\n",
    "\n",
    "# Configurando o tamanho do gráfico\n",
    "plt.figure(figsize=(10, 7))\n",
    "\n",
    "# Plotando as médias de Download\n",
    "plt.plot(df['Ponto da Cidade'], df['Download'], label='Download (Mbps)', marker='o', linestyle='-')\n",
    "\n",
    "# Plotando as médias de Upload\n",
    "plt.plot(df['Ponto da Cidade'], df['Upload'], label='Upload (Mbps)', color='r', marker='o', linestyle='-')\n",
    "\n",
    "# Plotando as médias de Latência\n",
    "plt.plot(df['Ponto da Cidade'], df['Latência'], label='Latência (ms)', color='g', marker='o', linestyle='-')\n",
    "\n",
    "# Adicionando título e legendas\n",
    "plt.title('Médias de Download, Upload e Latência por Ponto da Cidade')\n",
    "plt.xlabel('Ponto da Cidade')\n",
    "plt.ylabel('Média')\n",
    "plt.xticks(rotation=45)  # Rotação dos labels no eixo x para melhor visualização\n",
    "plt.legend()\n",
    "\n",
    "# Ajuste final para layout\n",
    "plt.tight_layout()\n",
    "\n",
    "# Mostrando o gráfico\n",
    "plt.show()\n"
   ]
  },
  {
   "cell_type": "code",
   "execution_count": 50,
   "metadata": {},
   "outputs": [
    {
     "ename": "TypeError",
     "evalue": "string indices must be integers, not 'str'",
     "output_type": "error",
     "traceback": [
      "\u001b[1;31m---------------------------------------------------------------------------\u001b[0m",
      "\u001b[1;31mTypeError\u001b[0m                                 Traceback (most recent call last)",
      "Cell \u001b[1;32mIn[50], line 17\u001b[0m\n\u001b[0;32m     15\u001b[0m \u001b[38;5;66;03m# Calculando as médias para cada ponto\u001b[39;00m\n\u001b[0;32m     16\u001b[0m \u001b[38;5;28;01mfor\u001b[39;00m dado \u001b[38;5;129;01min\u001b[39;00m dados:\n\u001b[1;32m---> 17\u001b[0m     medias_download\u001b[38;5;241m.\u001b[39mappend(\u001b[43mdado\u001b[49m\u001b[43m[\u001b[49m\u001b[38;5;124;43m'\u001b[39;49m\u001b[38;5;124;43mDownload(Mbps)\u001b[39;49m\u001b[38;5;124;43m'\u001b[39;49m\u001b[43m]\u001b[49m\u001b[38;5;241m.\u001b[39mmean())\n\u001b[0;32m     18\u001b[0m     medias_upload\u001b[38;5;241m.\u001b[39mappend(dado[\u001b[38;5;124m'\u001b[39m\u001b[38;5;124mUpload(Mbps)\u001b[39m\u001b[38;5;124m'\u001b[39m]\u001b[38;5;241m.\u001b[39mmean())\n\u001b[0;32m     19\u001b[0m     medias_latencia\u001b[38;5;241m.\u001b[39mappend(dado[\u001b[38;5;124m'\u001b[39m\u001b[38;5;124mLatencia(ms)\u001b[39m\u001b[38;5;124m'\u001b[39m]\u001b[38;5;241m.\u001b[39mmean())\n",
      "\u001b[1;31mTypeError\u001b[0m: string indices must be integers, not 'str'"
     ]
    }
   ],
   "source": [
    "import pandas as pd\n",
    "\n",
    "# Supondo que você tenha uma lista dos DataFrames para cada ponto:\n",
    "dados = [dado_1, dado_2, dado_3, dado_4, dado_5, dado_6, dado_7, dado_8, dado_9, dado_10, dado_11, dado_12, dado_13, dado_14, dado_15, dado_16, dado_17]\n",
    "\n",
    "dados = [f'dado_{i}' for i in range(1, 18)]\n",
    "\n",
    "pontos_da_cidade = [\"Ponto1\", \"Ponto2\",\"Ponto3\",\"Ponto4\",\"Ponto5\",\"Ponto6\",\"Ponto7\",\"Ponto8\",\"Ponto9\",\"Ponto10\",\"Ponto11\",\"Ponto12\",\n",
    "                    \"Ponto13\",\"Ponto14\", \"Ponto15\",\"Ponto16\",\"Ponto17\"]\n",
    "\n",
    "# Criando listas para armazenar as médias:\n",
    "medias_download = []\n",
    "medias_upload = []\n",
    "medias_latencia = []\n",
    "\n",
    "# Calculando as médias para cada ponto\n",
    "for dado in dados:\n",
    "    medias_download.append(dado['Download(Mbps)'].mean())\n",
    "    medias_upload.append(dado['Upload(Mbps)'].mean())\n",
    "    medias_latencia.append(dado['Latencia(ms)'].mean())\n",
    "\n",
    "# Criando um DataFrame com os resultados\n",
    "df = pd.DataFrame({\n",
    "    'Ponto da Cidade': pontos_da_cidade,\n",
    "    'Download(Mbps)': medias_download,\n",
    "    'Upload(Mbps)': medias_upload,\n",
    "    'Latencia(ms)': medias_latencia\n",
    "})\n"
   ]
  },
  {
   "cell_type": "code",
   "execution_count": 46,
   "metadata": {},
   "outputs": [
    {
     "data": {
      "image/png": "[encoded data removed]",
      "text/plain": [
       "<Figure size 1000x600 with 1 Axes>"
      ]
     },
     "metadata": {},
     "output_type": "display_data"
    }
   ],
   "source": [
    "import matplotlib.pyplot as plt\n",
    "\n",
    "# Configurando o tamanho do gráfico\n",
    "plt.figure(figsize=(10, 6))\n",
    "\n",
    "# Plotando as médias de Download\n",
    "plt.plot(df['Ponto da Cidade'], df['Download(Mbps)'], label='Download (Mbps)', marker='o')\n",
    "\n",
    "# Plotando as médias de Upload\n",
    "plt.plot(df['Ponto da Cidade'], df['Upload(Mbps)'], label='Upload (Mbps)', color='r', marker='o')\n",
    "\n",
    "# Plotando as médias de Latência\n",
    "plt.plot(df['Ponto da Cidade'], df['Latencia(ms)'], label='Latência (ms)', color='g', marker='o')\n",
    "\n",
    "# Adicionando títulos e legendas\n",
    "plt.title('Médias de Download, Upload e Latência por Ponto da Cidade')\n",
    "plt.xlabel('Pontos da Cidade')\n",
    "plt.ylabel('Média')\n",
    "plt.xticks(rotation=45)  # Rotação dos labels no eixo x para melhor visualização\n",
    "plt.legend()\n",
    "\n",
    "# Mostrando o gráfico\n",
    "plt.tight_layout()\n",
    "plt.show()\n"
   ]
  },
  {
   "cell_type": "code",
   "execution_count": 61,
   "metadata": {},
   "outputs": [
    {
     "data": {
      "application/vnd.plotly.v1+json": {
       "config": {
        "plotlyServerURL": "https://plot.ly"
       },
       "data": [
        {
         "alignmentgroup": "True",
         "hovertemplate": "Tipo=Download(Mbps)<br>Ponto da Cidade=%{x}<br>Média=%{y}<extra></extra>",
         "legendgroup": "Download(Mbps)",
         "marker": {
          "color": "#636efa",
          "pattern": {
           "shape": ""
          }
         },
         "name": "Download(Mbps)",
         "offsetgroup": "Download(Mbps)",
         "orientation": "v",
         "showlegend": true,
         "textposition": "auto",
         "type": "bar",
         "x": [
          "Ponto1",
          "Ponto2",
          "Ponto3",
          "Ponto4",
          "Ponto5",
          "Ponto6",
          "Ponto7",
          "Ponto8",
          "Ponto9",
          "Ponto10",
          "Ponto11",
          "Ponto12",
          "Ponto13",
          "Ponto14",
          "Ponto15",
          "Ponto16",
          "Ponto17"
         ],
         "xaxis": "x",
         "y": [
          28.380000000000003,
          29.633333333333336,
          16.939999999999998,
          32.58,
          27.9,
          12.819999999999999,
          11.95,
          26.580000000000002,
          23.499999999999996,
          11.88,
          9.681999999999999,
          39.4,
          33.64,
          38.339999999999996,
          23.116666666666664,
          30.8,
          33.9
         ],
         "yaxis": "y"
        },
        {
         "alignmentgroup": "True",
         "hovertemplate": "Tipo=Upload(Mbps)<br>Ponto da Cidade=%{x}<br>Média=%{y}<extra></extra>",
         "legendgroup": "Upload(Mbps)",
         "marker": {
          "color": "#EF553B",
          "pattern": {
           "shape": ""
          }
         },
         "name": "Upload(Mbps)",
         "offsetgroup": "Upload(Mbps)",
         "orientation": "v",
         "showlegend": true,
         "textposition": "auto",
         "type": "bar",
         "x": [
          "Ponto1",
          "Ponto2",
          "Ponto3",
          "Ponto4",
          "Ponto5",
          "Ponto6",
          "Ponto7",
          "Ponto8",
          "Ponto9",
          "Ponto10",
          "Ponto11",
          "Ponto12",
          "Ponto13",
          "Ponto14",
          "Ponto15",
          "Ponto16",
          "Ponto17"
         ],
         "xaxis": "x",
         "y": [
          8.22,
          8.386666666666665,
          4.396,
          8.722,
          3.196,
          1.8359999999999999,
          1.4674999999999998,
          8.094,
          5.242,
          4.068,
          5.422,
          8.128333333333332,
          8.632,
          9.152000000000001,
          8.883333333333335,
          7.419999999999999,
          2.4983333333333335
         ],
         "yaxis": "y"
        },
        {
         "alignmentgroup": "True",
         "hovertemplate": "Tipo=Latência(ms)<br>Ponto da Cidade=%{x}<br>Média=%{y}<extra></extra>",
         "legendgroup": "Latência(ms)",
         "marker": {
          "color": "#00cc96",
          "pattern": {
           "shape": ""
          }
         },
         "name": "Latência(ms)",
         "offsetgroup": "Latência(ms)",
         "orientation": "v",
         "showlegend": true,
         "textposition": "auto",
         "type": "bar",
         "x": [
          "Ponto1",
          "Ponto2",
          "Ponto3",
          "Ponto4",
          "Ponto5",
          "Ponto6",
          "Ponto7",
          "Ponto8",
          "Ponto9",
          "Ponto10",
          "Ponto11",
          "Ponto12",
          "Ponto13",
          "Ponto14",
          "Ponto15",
          "Ponto16",
          "Ponto17"
         ],
         "xaxis": "x",
         "y": [
          114,
          59.333333333333336,
          163.6,
          55.8,
          203,
          1150,
          154.25,
          50.2,
          60.6,
          514,
          258.4,
          41.833333333333336,
          52,
          38.6,
          40.5,
          138.33333333333334,
          631.3333333333334
         ],
         "yaxis": "y"
        }
       ],
       "layout": {
        "barmode": "group",
        "legend": {
         "title": {
          "text": "Tipo"
         },
         "tracegroupgap": 0
        },
        "template": {
         "data": {
          "bar": [
           {
            "error_x": {
             "color": "#2a3f5f"
            },
            "error_y": {
             "color": "#2a3f5f"
            },
            "marker": {
             "line": {
              "color": "#E5ECF6",
              "width": 0.5
             },
             "pattern": {
              "fillmode": "overlay",
              "size": 10,
              "solidity": 0.2
             }
            },
            "type": "bar"
           }
          ],
          "barpolar": [
           {
            "marker": {
             "line": {
              "color": "#E5ECF6",
              "width": 0.5
             },
             "pattern": {
              "fillmode": "overlay",
              "size": 10,
              "solidity": 0.2
             }
            },
            "type": "barpolar"
           }
          ],
          "carpet": [
           {
            "aaxis": {
             "endlinecolor": "#2a3f5f",
             "gridcolor": "white",
             "linecolor": "white",
             "minorgridcolor": "white",
             "startlinecolor": "#2a3f5f"
            },
            "baxis": {
             "endlinecolor": "#2a3f5f",
             "gridcolor": "white",
             "linecolor": "white",
             "minorgridcolor": "white",
             "startlinecolor": "#2a3f5f"
            },
            "type": "carpet"
           }
          ],
          "choropleth": [
           {
            "colorbar": {
             "outlinewidth": 0,
             "ticks": ""
            },
            "type": "choropleth"
           }
          ],
          "contour": [
           {
            "colorbar": {
             "outlinewidth": 0,
             "ticks": ""
            },
            "colorscale": [
             [
              0,
              "#0d0887"
             ],
             [
              0.1111111111111111,
              "#46039f"
             ],
             [
              0.2222222222222222,
              "#7201a8"
             ],
             [
              0.3333333333333333,
              "#9c179e"
             ],
             [
              0.4444444444444444,
              "#bd3786"
             ],
             [
              0.5555555555555556,
              "#d8576b"
             ],
             [
              0.6666666666666666,
              "#ed7953"
             ],
             [
              0.7777777777777778,
              "#fb9f3a"
             ],
             [
              0.8888888888888888,
              "#fdca26"
             ],
             [
              1,
              "#f0f921"
             ]
            ],
            "type": "contour"
           }
          ],
          "contourcarpet": [
           {
            "colorbar": {
             "outlinewidth": 0,
             "ticks": ""
            },
            "type": "contourcarpet"
           }
          ],
          "heatmap": [
           {
            "colorbar": {
             "outlinewidth": 0,
             "ticks": ""
            },
            "colorscale": [
             [
              0,
              "#0d0887"
             ],
             [
              0.1111111111111111,
              "#46039f"
             ],
             [
              0.2222222222222222,
              "#7201a8"
             ],
             [
              0.3333333333333333,
              "#9c179e"
             ],
             [
              0.4444444444444444,
              "#bd3786"
             ],
             [
              0.5555555555555556,
              "#d8576b"
             ],
             [
              0.6666666666666666,
              "#ed7953"
             ],
             [
              0.7777777777777778,
              "#fb9f3a"
             ],
             [
              0.8888888888888888,
              "#fdca26"
             ],
             [
              1,
              "#f0f921"
             ]
            ],
            "type": "heatmap"
           }
          ],
          "heatmapgl": [
           {
            "colorbar": {
             "outlinewidth": 0,
             "ticks": ""
            },
            "colorscale": [
             [
              0,
              "#0d0887"
             ],
             [
              0.1111111111111111,
              "#46039f"
             ],
             [
              0.2222222222222222,
              "#7201a8"
             ],
             [
              0.3333333333333333,
              "#9c179e"
             ],
             [
              0.4444444444444444,
              "#bd3786"
             ],
             [
              0.5555555555555556,
              "#d8576b"
             ],
             [
              0.6666666666666666,
              "#ed7953"
             ],
             [
              0.7777777777777778,
              "#fb9f3a"
             ],
             [
              0.8888888888888888,
              "#fdca26"
             ],
             [
              1,
              "#f0f921"
             ]
            ],
            "type": "heatmapgl"
           }
          ],
          "histogram": [
           {
            "marker": {
             "pattern": {
              "fillmode": "overlay",
              "size": 10,
              "solidity": 0.2
             }
            },
            "type": "histogram"
           }
          ],
          "histogram2d": [
           {
            "colorbar": {
             "outlinewidth": 0,
             "ticks": ""
            },
            "colorscale": [
             [
              0,
              "#0d0887"
             ],
             [
              0.1111111111111111,
              "#46039f"
             ],
             [
              0.2222222222222222,
              "#7201a8"
             ],
             [
              0.3333333333333333,
              "#9c179e"
             ],
             [
              0.4444444444444444,
              "#bd3786"
             ],
             [
              0.5555555555555556,
              "#d8576b"
             ],
             [
              0.6666666666666666,
              "#ed7953"
             ],
             [
              0.7777777777777778,
              "#fb9f3a"
             ],
             [
              0.8888888888888888,
              "#fdca26"
             ],
             [
              1,
              "#f0f921"
             ]
            ],
            "type": "histogram2d"
           }
          ],
          "histogram2dcontour": [
           {
            "colorbar": {
             "outlinewidth": 0,
             "ticks": ""
            },
            "colorscale": [
             [
              0,
              "#0d0887"
             ],
             [
              0.1111111111111111,
              "#46039f"
             ],
             [
              0.2222222222222222,
              "#7201a8"
             ],
             [
              0.3333333333333333,
              "#9c179e"
             ],
             [
              0.4444444444444444,
              "#bd3786"
             ],
             [
              0.5555555555555556,
              "#d8576b"
             ],
             [
              0.6666666666666666,
              "#ed7953"
             ],
             [
              0.7777777777777778,
              "#fb9f3a"
             ],
             [
              0.8888888888888888,
              "#fdca26"
             ],
             [
              1,
              "#f0f921"
             ]
            ],
            "type": "histogram2dcontour"
           }
          ],
          "mesh3d": [
           {
            "colorbar": {
             "outlinewidth": 0,
             "ticks": ""
            },
            "type": "mesh3d"
           }
          ],
          "parcoords": [
           {
            "line": {
             "colorbar": {
              "outlinewidth": 0,
              "ticks": ""
             }
            },
            "type": "parcoords"
           }
          ],
          "pie": [
           {
            "automargin": true,
            "type": "pie"
           }
          ],
          "scatter": [
           {
            "fillpattern": {
             "fillmode": "overlay",
             "size": 10,
             "solidity": 0.2
            },
            "type": "scatter"
           }
          ],
          "scatter3d": [
           {
            "line": {
             "colorbar": {
              "outlinewidth": 0,
              "ticks": ""
             }
            },
            "marker": {
             "colorbar": {
              "outlinewidth": 0,
              "ticks": ""
             }
            },
            "type": "scatter3d"
           }
          ],
          "scattercarpet": [
           {
            "marker": {
             "colorbar": {
              "outlinewidth": 0,
              "ticks": ""
             }
            },
            "type": "scattercarpet"
           }
          ],
          "scattergeo": [
           {
            "marker": {
             "colorbar": {
              "outlinewidth": 0,
              "ticks": ""
             }
            },
            "type": "scattergeo"
           }
          ],
          "scattergl": [
           {
            "marker": {
             "colorbar": {
              "outlinewidth": 0,
              "ticks": ""
             }
            },
            "type": "scattergl"
           }
          ],
          "scattermapbox": [
           {
            "marker": {
             "colorbar": {
              "outlinewidth": 0,
              "ticks": ""
             }
            },
            "type": "scattermapbox"
           }
          ],
          "scatterpolar": [
           {
            "marker": {
             "colorbar": {
              "outlinewidth": 0,
              "ticks": ""
             }
            },
            "type": "scatterpolar"
           }
          ],
          "scatterpolargl": [
           {
            "marker": {
             "colorbar": {
              "outlinewidth": 0,
              "ticks": ""
             }
            },
            "type": "scatterpolargl"
           }
          ],
          "scatterternary": [
           {
            "marker": {
             "colorbar": {
              "outlinewidth": 0,
              "ticks": ""
             }
            },
            "type": "scatterternary"
           }
          ],
          "surface": [
           {
            "colorbar": {
             "outlinewidth": 0,
             "ticks": ""
            },
            "colorscale": [
             [
              0,
              "#0d0887"
             ],
             [
              0.1111111111111111,
              "#46039f"
             ],
             [
              0.2222222222222222,
              "#7201a8"
             ],
             [
              0.3333333333333333,
              "#9c179e"
             ],
             [
              0.4444444444444444,
              "#bd3786"
             ],
             [
              0.5555555555555556,
              "#d8576b"
             ],
             [
              0.6666666666666666,
              "#ed7953"
             ],
             [
              0.7777777777777778,
              "#fb9f3a"
             ],
             [
              0.8888888888888888,
              "#fdca26"
             ],
             [
              1,
              "#f0f921"
             ]
            ],
            "type": "surface"
           }
          ],
          "table": [
           {
            "cells": {
             "fill": {
              "color": "#EBF0F8"
             },
             "line": {
              "color": "white"
             }
            },
            "header": {
             "fill": {
              "color": "#C8D4E3"
             },
             "line": {
              "color": "white"
             }
            },
            "type": "table"
           }
          ]
         },
         "layout": {
          "annotationdefaults": {
           "arrowcolor": "#2a3f5f",
           "arrowhead": 0,
           "arrowwidth": 1
          },
          "autotypenumbers": "strict",
          "coloraxis": {
           "colorbar": {
            "outlinewidth": 0,
            "ticks": ""
           }
          },
          "colorscale": {
           "diverging": [
            [
             0,
             "#8e0152"
            ],
            [
             0.1,
             "#c51b7d"
            ],
            [
             0.2,
             "#de77ae"
            ],
            [
             0.3,
             "#f1b6da"
            ],
            [
             0.4,
             "#fde0ef"
            ],
            [
             0.5,
             "#f7f7f7"
            ],
            [
             0.6,
             "#e6f5d0"
            ],
            [
             0.7,
             "#b8e186"
            ],
            [
             0.8,
             "#7fbc41"
            ],
            [
             0.9,
             "#4d9221"
            ],
            [
             1,
             "#276419"
            ]
           ],
           "sequential": [
            [
             0,
             "#0d0887"
            ],
            [
             0.1111111111111111,
             "#46039f"
            ],
            [
             0.2222222222222222,
             "#7201a8"
            ],
            [
             0.3333333333333333,
             "#9c179e"
            ],
            [
             0.4444444444444444,
             "#bd3786"
            ],
            [
             0.5555555555555556,
             "#d8576b"
            ],
            [
             0.6666666666666666,
             "#ed7953"
            ],
            [
             0.7777777777777778,
             "#fb9f3a"
            ],
            [
             0.8888888888888888,
             "#fdca26"
            ],
            [
             1,
             "#f0f921"
            ]
           ],
           "sequentialminus": [
            [
             0,
             "#0d0887"
            ],
            [
             0.1111111111111111,
             "#46039f"
            ],
            [
             0.2222222222222222,
             "#7201a8"
            ],
            [
             0.3333333333333333,
             "#9c179e"
            ],
            [
             0.4444444444444444,
             "#bd3786"
            ],
            [
             0.5555555555555556,
             "#d8576b"
            ],
            [
             0.6666666666666666,
             "#ed7953"
            ],
            [
             0.7777777777777778,
             "#fb9f3a"
            ],
            [
             0.8888888888888888,
             "#fdca26"
            ],
            [
             1,
             "#f0f921"
            ]
           ]
          },
          "colorway": [
           "#636efa",
           "#EF553B",
           "#00cc96",
           "#ab63fa",
           "#FFA15A",
           "#19d3f3",
           "#FF6692",
           "#B6E880",
           "#FF97FF",
           "#FECB52"
          ],
          "font": {
           "color": "#2a3f5f"
          },
          "geo": {
           "bgcolor": "white",
           "lakecolor": "white",
           "landcolor": "#E5ECF6",
           "showlakes": true,
           "showland": true,
           "subunitcolor": "white"
          },
          "hoverlabel": {
           "align": "left"
          },
          "hovermode": "closest",
          "mapbox": {
           "style": "light"
          },
          "paper_bgcolor": "white",
          "plot_bgcolor": "#E5ECF6",
          "polar": {
           "angularaxis": {
            "gridcolor": "white",
            "linecolor": "white",
            "ticks": ""
           },
           "bgcolor": "#E5ECF6",
           "radialaxis": {
            "gridcolor": "white",
            "linecolor": "white",
            "ticks": ""
           }
          },
          "scene": {
           "xaxis": {
            "backgroundcolor": "#E5ECF6",
            "gridcolor": "white",
            "gridwidth": 2,
            "linecolor": "white",
            "showbackground": true,
            "ticks": "",
            "zerolinecolor": "white"
           },
           "yaxis": {
            "backgroundcolor": "#E5ECF6",
            "gridcolor": "white",
            "gridwidth": 2,
            "linecolor": "white",
            "showbackground": true,
            "ticks": "",
            "zerolinecolor": "white"
           },
           "zaxis": {
            "backgroundcolor": "#E5ECF6",
            "gridcolor": "white",
            "gridwidth": 2,
            "linecolor": "white",
            "showbackground": true,
            "ticks": "",
            "zerolinecolor": "white"
           }
          },
          "shapedefaults": {
           "line": {
            "color": "#2a3f5f"
           }
          },
          "ternary": {
           "aaxis": {
            "gridcolor": "white",
            "linecolor": "white",
            "ticks": ""
           },
           "baxis": {
            "gridcolor": "white",
            "linecolor": "white",
            "ticks": ""
           },
           "bgcolor": "#E5ECF6",
           "caxis": {
            "gridcolor": "white",
            "linecolor": "white",
            "ticks": ""
           }
          },
          "title": {
           "x": 0.05
          },
          "xaxis": {
           "automargin": true,
           "gridcolor": "white",
           "linecolor": "white",
           "ticks": "",
           "title": {
            "standoff": 15
           },
           "zerolinecolor": "white",
           "zerolinewidth": 2
          },
          "yaxis": {
           "automargin": true,
           "gridcolor": "white",
           "linecolor": "white",
           "ticks": "",
           "title": {
            "standoff": 15
           },
           "zerolinecolor": "white",
           "zerolinewidth": 2
          }
         }
        },
        "title": {
         "text": "Médias de Download, Upload e Latência por Ponto da Cidade"
        },
        "xaxis": {
         "anchor": "y",
         "domain": [
          0,
          1
         ],
         "tickangle": -45,
         "title": {
          "text": "Ponto da Cidade"
         }
        },
        "yaxis": {
         "anchor": "x",
         "domain": [
          0,
          1
         ],
         "title": {
          "text": "Média"
         }
        }
       }
      }
     },
     "metadata": {},
     "output_type": "display_data"
    }
   ],
   "source": [
    "import pandas as pd\n",
    "import numpy as np\n",
    "import plotly.express as px\n",
    "\n",
    "# Simulando dados novamente para exemplificar, substitua isso pelos seus dados reais\n",
    "dados = [dado_1, dado_2, dado_3, dado_4, dado_5, dado_6, dado_7, dado_8, dado_9, dado_10, dado_11, dado_12, dado_13, dado_14, dado_15, dado_16, dado_17]\n",
    "\n",
    "\n",
    "pontos_da_cidade = [f\"Ponto{i}\" for i in range(1, 18)]\n",
    "\n",
    "# Listas para armazenar as médias\n",
    "medias_download = []\n",
    "medias_upload = []\n",
    "medias_latencia = []\n",
    "\n",
    "# Calculando as médias para cada ponto\n",
    "for dado in dados:\n",
    "    medias_download.append(dado['Download(Mbps)'].mean())\n",
    "    medias_upload.append(dado['Upload(Mbps)'].mean())\n",
    "    medias_latencia.append(dado['Latencia(ms)'].mean())\n",
    "\n",
    "# Criando um DataFrame com os resultados\n",
    "df = pd.DataFrame({\n",
    "    'Ponto da Cidade': pontos_da_cidade,\n",
    "    'Download(Mbps)': medias_download,\n",
    "    'Upload(Mbps)': medias_upload,\n",
    "    'Latência(ms)': medias_latencia\n",
    "})\n",
    "\n",
    "# Convertendo para um formato longo\n",
    "df_long = pd.melt(df, id_vars='Ponto da Cidade', var_name='Tipo', value_name='Média')\n",
    "\n",
    "### Passo 2: Criar o gráfico interativo com Plotly\n",
    "\n",
    "fig = px.bar(df_long, x='Ponto da Cidade', y='Média', color='Tipo',\n",
    "             title='Médias de Download, Upload e Latência por Ponto da Cidade',\n",
    "             labels={'Média': 'Média', 'Ponto da Cidade': 'Ponto da Cidade'},\n",
    "             barmode='group')\n",
    "\n",
    "fig.update_layout(xaxis_title='Ponto da Cidade',\n",
    "                  yaxis_title='Média',\n",
    "                  xaxis_tickangle=-45)\n",
    "\n",
    "\n",
    "fig.show()"
   ]
  }
 ],
 "metadata": {
  "kernelspec": {
   "display_name": "Python 3",
   "language": "python",
   "name": "python3"
  },
  "language_info": {
   "codemirror_mode": {
    "name": "ipython",
    "version": 3
   },
   "file_extension": ".py",
   "mimetype": "text/x-python",
   "name": "python",
   "nbconvert_exporter": "python",
   "pygments_lexer": "ipython3",
   "version": "3.11.4"
  }
 },
 "nbformat": 4,
 "nbformat_minor": 2
}
